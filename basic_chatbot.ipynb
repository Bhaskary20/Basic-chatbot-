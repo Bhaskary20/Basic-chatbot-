{
 "cells": [
  {
   "cell_type": "code",
   "execution_count": 29,
   "id": "d757fcfc",
   "metadata": {},
   "outputs": [],
   "source": [
    "from langgraph.graph import StateGraph, START, END\n",
    "from typing import TypedDict, Annotated\n",
    "from langchain_core.messages import BaseMessage, HumanMessage\n",
    "from langchain_huggingface import ChatHuggingFace, HuggingFaceEndpoint\n",
    "from dotenv import load_dotenv\n",
    "from langgraph.graph.message import add_messages\n",
    "from langgraph.checkpoint.memory import MemorySaver"
   ]
  },
  {
   "cell_type": "code",
   "execution_count": 30,
   "id": "e0b4f586",
   "metadata": {},
   "outputs": [
    {
     "data": {
      "text/plain": [
       "True"
      ]
     },
     "execution_count": 30,
     "metadata": {},
     "output_type": "execute_result"
    }
   ],
   "source": [
    "load_dotenv()"
   ]
  },
  {
   "cell_type": "code",
   "execution_count": 31,
   "id": "b83bf540",
   "metadata": {},
   "outputs": [],
   "source": [
    "llm = HuggingFaceEndpoint(\n",
    "    repo_id=\"mistralai/Mistral-7B-Instruct-v0.3\",\n",
    "    task=\"text-generation\"\n",
    ")\n",
    "model = ChatHuggingFace(llm=llm)"
   ]
  },
  {
   "cell_type": "code",
   "execution_count": 32,
   "id": "63b52f28",
   "metadata": {},
   "outputs": [],
   "source": [
    "class ChatState(TypedDict):\n",
    "\n",
    "    messages: Annotated[list[BaseMessage], add_messages]"
   ]
  },
  {
   "cell_type": "code",
   "execution_count": 33,
   "id": "7209e736",
   "metadata": {},
   "outputs": [],
   "source": [
    "def chat_node(state: ChatState):\n",
    "\n",
    "    \n",
    "    messages = state['messages']\n",
    "\n",
    "   \n",
    "    response = model.invoke(messages)\n",
    "\n",
    "    \n",
    "    return {'messages': [response]}"
   ]
  },
  {
   "cell_type": "code",
   "execution_count": 34,
   "id": "d5663da6",
   "metadata": {},
   "outputs": [],
   "source": [
    "checkpointer=MemorySaver()\n",
    "graph = StateGraph(ChatState)\n",
    "\n",
    "\n",
    "graph.add_node('chat_node', chat_node)\n",
    "\n",
    "graph.add_edge(START, 'chat_node')\n",
    "graph.add_edge('chat_node', END)\n",
    "\n",
    "chatbot = graph.compile(checkpointer=checkpointer)"
   ]
  },
  {
   "cell_type": "code",
   "execution_count": 35,
   "id": "54524cb8",
   "metadata": {},
   "outputs": [],
   "source": [
    "#initial_state = {\n",
    "#    'messages': [HumanMessage(content='What is the capital of india')]\n",
    "#}\n",
    "\n",
    "#chatbot.invoke(initial_state)['messages'][-1].content"
   ]
  },
  {
   "cell_type": "code",
   "execution_count": 36,
   "id": "ac26634f",
   "metadata": {},
   "outputs": [
    {
     "name": "stdout",
     "output_type": "stream",
     "text": [
      "User: hi, my name is bhola\n",
      "AI:   Hello Bhola! It's nice to meet you. How can I assist you today? If you have any questions or need help with something, feel free to ask. I'm here to help!\n",
      "User: what's my name\n",
      "AI:   Your name is Bhola, as you mentioned earlier. How can I assist you today, Bhola? If you have any questions or need help with something, feel free to ask. I'm here to help!\n",
      "User: quit\n"
     ]
    }
   ],
   "source": [
    "thread_id='1'\n",
    "while True:\n",
    "\n",
    "    user_message=input('Type_here: ')\n",
    "\n",
    "    print(\"User:\", user_message)\n",
    "\n",
    "    if user_message.strip().lower() in ['quit','bye', 'exit']:\n",
    "        break\n",
    "    \n",
    "    config={'configurable':{'thread_id': thread_id}}\n",
    "    response= chatbot.invoke({'messages': [HumanMessage(content=user_message)]}, config=config)\n",
    "\n",
    "    print('AI: ', response['messages'][-1].content)\n"
   ]
  },
  {
   "cell_type": "code",
   "execution_count": 40,
   "id": "dbd8bbf5",
   "metadata": {},
   "outputs": [
    {
     "data": {
      "text/plain": [
       "StateSnapshot(values={'messages': [HumanMessage(content='hi, my name is bhola', additional_kwargs={}, response_metadata={}, id='46d5b662-a32f-460a-a2c7-a6f6042fad62'), AIMessage(content=\" Hello Bhola! It's nice to meet you. How can I assist you today? If you have any questions or need help with something, feel free to ask. I'm here to help!\", additional_kwargs={}, response_metadata={'token_usage': {'completion_tokens': 43, 'prompt_tokens': 12, 'total_tokens': 55}, 'model_name': 'mistralai/Mistral-7B-Instruct-v0.3', 'system_fingerprint': None, 'finish_reason': 'stop', 'logprobs': None}, id='run--c299ec2e-da16-4bd5-8f9e-7781c8fc25ab-0', usage_metadata={'input_tokens': 12, 'output_tokens': 43, 'total_tokens': 55}), HumanMessage(content=\"what's my name\", additional_kwargs={}, response_metadata={}, id='80d9b002-fa9d-4e05-9008-de89c56b2adf'), AIMessage(content=\" Your name is Bhola, as you mentioned earlier. How can I assist you today, Bhola? If you have any questions or need help with something, feel free to ask. I'm here to help!\", additional_kwargs={}, response_metadata={'token_usage': {'completion_tokens': 45, 'prompt_tokens': 66, 'total_tokens': 111}, 'model_name': 'mistralai/Mistral-7B-Instruct-v0.3', 'system_fingerprint': None, 'finish_reason': 'stop', 'logprobs': None}, id='run--40ef1b61-51ab-4b38-af9b-c9d1577d931d-0', usage_metadata={'input_tokens': 66, 'output_tokens': 45, 'total_tokens': 111})]}, next=(), config={'configurable': {'thread_id': '1', 'checkpoint_ns': '', 'checkpoint_id': '1f083fd7-57c9-66cd-8004-6472bd154608'}}, metadata={'source': 'loop', 'step': 4, 'parents': {}}, created_at='2025-08-28T10:55:06.954926+00:00', parent_config={'configurable': {'thread_id': '1', 'checkpoint_ns': '', 'checkpoint_id': '1f083fd7-51e7-662d-8003-86f308395263'}}, tasks=(), interrupts=())"
      ]
     },
     "execution_count": 40,
     "metadata": {},
     "output_type": "execute_result"
    }
   ],
   "source": [
    "chatbot.get_state(config=config)"
   ]
  },
  {
   "cell_type": "code",
   "execution_count": null,
   "id": "116f44c9",
   "metadata": {},
   "outputs": [],
   "source": []
  }
 ],
 "metadata": {
  "kernelspec": {
   "display_name": "myenv",
   "language": "python",
   "name": "python3"
  },
  "language_info": {
   "codemirror_mode": {
    "name": "ipython",
    "version": 3
   },
   "file_extension": ".py",
   "mimetype": "text/x-python",
   "name": "python",
   "nbconvert_exporter": "python",
   "pygments_lexer": "ipython3",
   "version": "3.11.8"
  }
 },
 "nbformat": 4,
 "nbformat_minor": 5
}
