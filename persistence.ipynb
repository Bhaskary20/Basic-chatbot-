{
 "cells": [
  {
   "cell_type": "code",
   "execution_count": 1,
   "id": "028efc18",
   "metadata": {},
   "outputs": [],
   "source": [
    "from langgraph.graph import StateGraph, START, END\n",
    "from typing import TypedDict, Annotated\n",
    "from langchain_core.messages import BaseMessage, HumanMessage\n",
    "from langchain_huggingface import ChatHuggingFace, HuggingFaceEndpoint\n",
    "from dotenv import load_dotenv\n",
    "from langgraph.graph.message import add_messages\n",
    "from langgraph.checkpoint.memory import InMemorySaver"
   ]
  },
  {
   "cell_type": "code",
   "execution_count": 2,
   "id": "488f1ae6",
   "metadata": {},
   "outputs": [
    {
     "data": {
      "text/plain": [
       "True"
      ]
     },
     "execution_count": 2,
     "metadata": {},
     "output_type": "execute_result"
    }
   ],
   "source": [
    "load_dotenv()"
   ]
  },
  {
   "cell_type": "code",
   "execution_count": 3,
   "id": "7392918a",
   "metadata": {},
   "outputs": [
    {
     "name": "stderr",
     "output_type": "stream",
     "text": [
      "c:\\ChatBot using LangGraph\\myenv\\Lib\\site-packages\\tqdm\\auto.py:21: TqdmWarning: IProgress not found. Please update jupyter and ipywidgets. See https://ipywidgets.readthedocs.io/en/stable/user_install.html\n",
      "  from .autonotebook import tqdm as notebook_tqdm\n"
     ]
    }
   ],
   "source": [
    "llm = HuggingFaceEndpoint(\n",
    "    repo_id=\"mistralai/Mistral-7B-Instruct-v0.3\",\n",
    "    task=\"text-generation\"\n",
    ")\n",
    "model = ChatHuggingFace(llm=llm)"
   ]
  },
  {
   "cell_type": "code",
   "execution_count": 4,
   "id": "28fd8e7d",
   "metadata": {},
   "outputs": [],
   "source": [
    "class JokeState(TypedDict):\n",
    "\n",
    "    topic: str\n",
    "    joke: str\n",
    "    explanation: str"
   ]
  },
  {
   "cell_type": "code",
   "execution_count": 5,
   "id": "392391e0",
   "metadata": {},
   "outputs": [],
   "source": [
    "def generate_joke(state: JokeState):\n",
    "\n",
    "    prompt=f\"Generate a joke about {state['topic']}\"\n",
    "    response=model.invoke(prompt).content\n",
    "    return {'joke': response}"
   ]
  },
  {
   "cell_type": "code",
   "execution_count": 6,
   "id": "bb4d4633",
   "metadata": {},
   "outputs": [],
   "source": [
    "def generate_explanation(state: JokeState):\n",
    "\n",
    "    prompt=f\"Explain the joke: {state['joke']}\"\n",
    "    response=model.invoke(prompt).content\n",
    "    return {'explanation': response}"
   ]
  },
  {
   "cell_type": "code",
   "execution_count": 14,
   "id": "88c73ed1",
   "metadata": {},
   "outputs": [],
   "source": [
    "graph=StateGraph(JokeState)\n",
    "checkpointer= InMemorySaver()\n",
    "\n",
    "graph.add_node('generate_joke', generate_joke)\n",
    "graph.add_node('generate_explanation', generate_explanation)\n",
    "\n",
    "graph.add_edge(START, 'generate_joke')\n",
    "graph.add_edge('generate_joke', 'generate_explanation')\n",
    "graph.add_edge('generate_explanation', END)\n",
    "\n",
    "workflow=graph.compile(checkpointer=checkpointer)\n",
    "\n"
   ]
  },
  {
   "cell_type": "code",
   "execution_count": 17,
   "id": "541687f5",
   "metadata": {},
   "outputs": [
    {
     "data": {
      "text/plain": [
       "{'topic': 'life',\n",
       " 'joke': \" Why don't we ever worry about the middle age? Because it's the prime of life! Just remember, the secret of staying young is to live honestly, laugh often, and love deeply... and keep a good doctor on speed dial!\",\n",
       " 'explanation': ' This joke plays on the double meaning of the term \"middle age.\" Typically, \"middle age\" is considered a period in a person\\'s life, usually between the ages of 40 and 60, that is characterized by various physical, emotional, and social changes. However, in the context of numbers, \"middle age\" refers to the age that is exactly in the middle of a range.\\n\\nIn this case, the speaker humorously suggests that we should not worry about \"middle age\" because it is the \"prime of life.\" The term \"prime\" has two meanings here: it can refer to the best or most important period of a person\\'s life, but it can also refer to a number that has only two distinct prime factors (in this case, 2 and itself). By using the term \"prime\" in this way, the speaker is making a playful connection between the best period of a person\\'s life and the mathematical concept of a prime number.\\n\\nThe punchline of the joke is followed by a piece of advice about staying young, which reinforces the idea that the best period of a person\\'s life can be extended by living a healthy and fulfilling life. The final line, \"keep a good doctor on speed dial,\" adds a touch of humor by acknowledging that even during the \"prime of life,\" it\\'s important to be prepared for any health issues that may arise.'}"
      ]
     },
     "execution_count": 17,
     "metadata": {},
     "output_type": "execute_result"
    }
   ],
   "source": [
    "config2= {'configurable': {'thread_id': '2'}}\n",
    "\n",
    "workflow.invoke({'topic': 'life'}, config=config2)\n",
    "\n"
   ]
  },
  {
   "cell_type": "code",
   "execution_count": 19,
   "id": "1bc09e5b",
   "metadata": {},
   "outputs": [
    {
     "data": {
      "text/plain": [
       "StateSnapshot(values={'topic': 'life', 'joke': \" Why don't we ever worry about the middle age? Because it's the prime of life! Just remember, the secret of staying young is to live honestly, laugh often, and love deeply... and keep a good doctor on speed dial!\", 'explanation': ' This joke plays on the double meaning of the term \"middle age.\" Typically, \"middle age\" is considered a period in a person\\'s life, usually between the ages of 40 and 60, that is characterized by various physical, emotional, and social changes. However, in the context of numbers, \"middle age\" refers to the age that is exactly in the middle of a range.\\n\\nIn this case, the speaker humorously suggests that we should not worry about \"middle age\" because it is the \"prime of life.\" The term \"prime\" has two meanings here: it can refer to the best or most important period of a person\\'s life, but it can also refer to a number that has only two distinct prime factors (in this case, 2 and itself). By using the term \"prime\" in this way, the speaker is making a playful connection between the best period of a person\\'s life and the mathematical concept of a prime number.\\n\\nThe punchline of the joke is followed by a piece of advice about staying young, which reinforces the idea that the best period of a person\\'s life can be extended by living a healthy and fulfilling life. The final line, \"keep a good doctor on speed dial,\" adds a touch of humor by acknowledging that even during the \"prime of life,\" it\\'s important to be prepared for any health issues that may arise.'}, next=(), config={'configurable': {'thread_id': '2', 'checkpoint_ns': '', 'checkpoint_id': '1f084c57-7a53-6483-8002-9da818805ff9'}}, metadata={'source': 'loop', 'step': 2, 'parents': {}}, created_at='2025-08-29T10:46:49.922470+00:00', parent_config={'configurable': {'thread_id': '2', 'checkpoint_ns': '', 'checkpoint_id': '1f084c57-67d5-6b0d-8001-b870f2b54b31'}}, tasks=(), interrupts=())"
      ]
     },
     "execution_count": 19,
     "metadata": {},
     "output_type": "execute_result"
    }
   ],
   "source": [
    "workflow.get_state(config2)"
   ]
  },
  {
   "cell_type": "code",
   "execution_count": 20,
   "id": "ac35887d",
   "metadata": {},
   "outputs": [
    {
     "data": {
      "text/plain": [
       "[StateSnapshot(values={'topic': 'trader', 'joke': \" Why don't traders ever play hide and seek?\\n\\nBecause good luck hiding when the market always knows where you've put your money!\", 'explanation': ' This joke is based on the nature of trading and the stock market. Traders invest money in various assets (stocks, bonds, commodities, etc.) with the hope of making a profit. The market, in this context, refers to the collective behavior of all buyers and sellers in the marketplace.\\n\\nThe punchline \"Because good luck hiding when the market always knows where you\\'ve put your money!\" is a humorous way of saying that it\\'s impossible to keep your trading activities secret because the market (i.e., other traders and investors) can see where you\\'ve invested your money through the buying and selling of assets. In other words, your trades are public information, and it\\'s challenging to hide your investment decisions from the market.'}, next=(), config={'configurable': {'thread_id': '1', 'checkpoint_ns': '', 'checkpoint_id': '1f084c56-50e4-6ad6-8002-20d162e5fe1b'}}, metadata={'source': 'loop', 'step': 2, 'parents': {}}, created_at='2025-08-29T10:46:18.734459+00:00', parent_config={'configurable': {'thread_id': '1', 'checkpoint_ns': '', 'checkpoint_id': '1f084c56-45b5-6633-8001-8dbb7e5369ba'}}, tasks=(), interrupts=()),\n",
       " StateSnapshot(values={'topic': 'trader', 'joke': \" Why don't traders ever play hide and seek?\\n\\nBecause good luck hiding when the market always knows where you've put your money!\"}, next=('generate_explanation',), config={'configurable': {'thread_id': '1', 'checkpoint_ns': '', 'checkpoint_id': '1f084c56-45b5-6633-8001-8dbb7e5369ba'}}, metadata={'source': 'loop', 'step': 1, 'parents': {}}, created_at='2025-08-29T10:46:17.561656+00:00', parent_config={'configurable': {'thread_id': '1', 'checkpoint_ns': '', 'checkpoint_id': '1f084c56-3deb-6dd4-8000-189e449b77ca'}}, tasks=(PregelTask(id='f6395ba4-452c-cb68-e5f0-83d55719e39a', name='generate_explanation', path=('__pregel_pull', 'generate_explanation'), error=None, interrupts=(), state=None, result={'explanation': ' This joke is based on the nature of trading and the stock market. Traders invest money in various assets (stocks, bonds, commodities, etc.) with the hope of making a profit. The market, in this context, refers to the collective behavior of all buyers and sellers in the marketplace.\\n\\nThe punchline \"Because good luck hiding when the market always knows where you\\'ve put your money!\" is a humorous way of saying that it\\'s impossible to keep your trading activities secret because the market (i.e., other traders and investors) can see where you\\'ve invested your money through the buying and selling of assets. In other words, your trades are public information, and it\\'s challenging to hide your investment decisions from the market.'}),), interrupts=()),\n",
       " StateSnapshot(values={'topic': 'trader'}, next=('generate_joke',), config={'configurable': {'thread_id': '1', 'checkpoint_ns': '', 'checkpoint_id': '1f084c56-3deb-6dd4-8000-189e449b77ca'}}, metadata={'source': 'loop', 'step': 0, 'parents': {}}, created_at='2025-08-29T10:46:16.745109+00:00', parent_config={'configurable': {'thread_id': '1', 'checkpoint_ns': '', 'checkpoint_id': '1f084c56-3de7-6f22-bfff-621893a690b7'}}, tasks=(PregelTask(id='8a1645fc-129a-29d5-d6bb-6b77b808855a', name='generate_joke', path=('__pregel_pull', 'generate_joke'), error=None, interrupts=(), state=None, result={'joke': \" Why don't traders ever play hide and seek?\\n\\nBecause good luck hiding when the market always knows where you've put your money!\"}),), interrupts=()),\n",
       " StateSnapshot(values={}, next=('__start__',), config={'configurable': {'thread_id': '1', 'checkpoint_ns': '', 'checkpoint_id': '1f084c56-3de7-6f22-bfff-621893a690b7'}}, metadata={'source': 'input', 'step': -1, 'parents': {}}, created_at='2025-08-29T10:46:16.743504+00:00', parent_config=None, tasks=(PregelTask(id='c767dcd4-ca79-2137-3dce-12918996b794', name='__start__', path=('__pregel_pull', '__start__'), error=None, interrupts=(), state=None, result={'topic': 'trader'}),), interrupts=())]"
      ]
     },
     "execution_count": 20,
     "metadata": {},
     "output_type": "execute_result"
    }
   ],
   "source": [
    "list(workflow.get_state_history(config1))"
   ]
  },
  {
   "cell_type": "code",
   "execution_count": null,
   "id": "348069a2",
   "metadata": {},
   "outputs": [],
   "source": []
  }
 ],
 "metadata": {
  "kernelspec": {
   "display_name": "myenv",
   "language": "python",
   "name": "python3"
  },
  "language_info": {
   "codemirror_mode": {
    "name": "ipython",
    "version": 3
   },
   "file_extension": ".py",
   "mimetype": "text/x-python",
   "name": "python",
   "nbconvert_exporter": "python",
   "pygments_lexer": "ipython3",
   "version": "3.11.8"
  }
 },
 "nbformat": 4,
 "nbformat_minor": 5
}
